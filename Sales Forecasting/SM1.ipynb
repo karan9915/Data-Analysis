{
 "cells": [
  {
   "cell_type": "code",
   "execution_count": 1,
   "metadata": {},
   "outputs": [],
   "source": [
    "import pandas as pd\n",
    "import numpy as np\n",
    "import matplotlib.pyplot as plt"
   ]
  },
  {
   "cell_type": "code",
   "execution_count": 2,
   "metadata": {},
   "outputs": [],
   "source": [
    "df = pd.read_excel('Sale Order History 09-09-2020.xlsx')"
   ]
  },
  {
   "cell_type": "code",
   "execution_count": 3,
   "metadata": {},
   "outputs": [
    {
     "data": {
      "text/html": [
       "<div>\n",
       "<style scoped>\n",
       "    .dataframe tbody tr th:only-of-type {\n",
       "        vertical-align: middle;\n",
       "    }\n",
       "\n",
       "    .dataframe tbody tr th {\n",
       "        vertical-align: top;\n",
       "    }\n",
       "\n",
       "    .dataframe thead th {\n",
       "        text-align: right;\n",
       "    }\n",
       "</style>\n",
       "<table border=\"1\" class=\"dataframe\">\n",
       "  <thead>\n",
       "    <tr style=\"text-align: right;\">\n",
       "      <th></th>\n",
       "      <th>Name</th>\n",
       "      <th>Sale Org</th>\n",
       "      <th>plant</th>\n",
       "      <th>Territory</th>\n",
       "      <th>indent_no</th>\n",
       "      <th>So_No</th>\n",
       "      <th>SO_DATE</th>\n",
       "      <th>Sale Order Qty</th>\n",
       "      <th>Sale Order Amount</th>\n",
       "      <th>BILL_DATE</th>\n",
       "      <th>BILL_NO</th>\n",
       "      <th>Bill_Qty</th>\n",
       "      <th>Bill_Amt</th>\n",
       "      <th>Delivery_no</th>\n",
       "      <th>Status</th>\n",
       "      <th>Approval_date</th>\n",
       "      <th>Sale Order Pending Qty</th>\n",
       "      <th>Sale Order Pending Amount</th>\n",
       "      <th>Sale Order Cancel Qty</th>\n",
       "      <th>Sale Order Cancel Amount</th>\n",
       "    </tr>\n",
       "  </thead>\n",
       "  <tbody>\n",
       "    <tr>\n",
       "      <th>0</th>\n",
       "      <td>Garg Medical Agency</td>\n",
       "      <td>1100</td>\n",
       "      <td>1001</td>\n",
       "      <td>Punjab</td>\n",
       "      <td>IND2021000003</td>\n",
       "      <td>3000002307</td>\n",
       "      <td>2020-07-01</td>\n",
       "      <td>NaN</td>\n",
       "      <td>NaN</td>\n",
       "      <td>2020-07-13</td>\n",
       "      <td>1.001102e+09</td>\n",
       "      <td>538</td>\n",
       "      <td>28158.0</td>\n",
       "      <td>8.000005e+09</td>\n",
       "      <td>PARTIAL SO CANCELLED</td>\n",
       "      <td>2020-07-09</td>\n",
       "      <td>NaN</td>\n",
       "      <td>NaN</td>\n",
       "      <td>NaN</td>\n",
       "      <td>NaN</td>\n",
       "    </tr>\n",
       "    <tr>\n",
       "      <th>1</th>\n",
       "      <td>Garg Medical Agency</td>\n",
       "      <td>1100</td>\n",
       "      <td>1001</td>\n",
       "      <td>Punjab</td>\n",
       "      <td>IND2021000003</td>\n",
       "      <td>3000002307</td>\n",
       "      <td>2020-07-01</td>\n",
       "      <td>1317.0</td>\n",
       "      <td>210906.0</td>\n",
       "      <td>2020-07-11</td>\n",
       "      <td>1.001102e+09</td>\n",
       "      <td>755</td>\n",
       "      <td>172572.0</td>\n",
       "      <td>8.000005e+09</td>\n",
       "      <td>PARTIAL SO CANCELLED</td>\n",
       "      <td>2020-07-09</td>\n",
       "      <td>NaN</td>\n",
       "      <td>NaN</td>\n",
       "      <td>24.0</td>\n",
       "      <td>10176.0</td>\n",
       "    </tr>\n",
       "    <tr>\n",
       "      <th>2</th>\n",
       "      <td>Partap Surgical</td>\n",
       "      <td>1100</td>\n",
       "      <td>1001</td>\n",
       "      <td>Punjab</td>\n",
       "      <td>IND2021000002</td>\n",
       "      <td>3000002308</td>\n",
       "      <td>2020-07-01</td>\n",
       "      <td>NaN</td>\n",
       "      <td>NaN</td>\n",
       "      <td>2020-07-11</td>\n",
       "      <td>1.001102e+09</td>\n",
       "      <td>106</td>\n",
       "      <td>17368.0</td>\n",
       "      <td>8.000005e+09</td>\n",
       "      <td>PARTIAL SO CANCELLED</td>\n",
       "      <td>2020-07-01</td>\n",
       "      <td>NaN</td>\n",
       "      <td>NaN</td>\n",
       "      <td>NaN</td>\n",
       "      <td>NaN</td>\n",
       "    </tr>\n",
       "    <tr>\n",
       "      <th>3</th>\n",
       "      <td>Partap Surgical</td>\n",
       "      <td>1100</td>\n",
       "      <td>1001</td>\n",
       "      <td>Punjab</td>\n",
       "      <td>IND2021000002</td>\n",
       "      <td>3000002308</td>\n",
       "      <td>2020-07-01</td>\n",
       "      <td>269.0</td>\n",
       "      <td>48091.0</td>\n",
       "      <td>2020-07-04</td>\n",
       "      <td>1.001102e+09</td>\n",
       "      <td>106</td>\n",
       "      <td>24708.0</td>\n",
       "      <td>8.000004e+09</td>\n",
       "      <td>PARTIAL SO CANCELLED</td>\n",
       "      <td>2020-07-01</td>\n",
       "      <td>NaN</td>\n",
       "      <td>NaN</td>\n",
       "      <td>57.0</td>\n",
       "      <td>6015.0</td>\n",
       "    </tr>\n",
       "    <tr>\n",
       "      <th>4</th>\n",
       "      <td>R.K. Medical Hall</td>\n",
       "      <td>1100</td>\n",
       "      <td>1001</td>\n",
       "      <td>Punjab</td>\n",
       "      <td>IND2021000005</td>\n",
       "      <td>3000002309</td>\n",
       "      <td>2020-07-01</td>\n",
       "      <td>201.0</td>\n",
       "      <td>47100.0</td>\n",
       "      <td>2020-07-09</td>\n",
       "      <td>1.001102e+09</td>\n",
       "      <td>201</td>\n",
       "      <td>47100.0</td>\n",
       "      <td>8.000005e+09</td>\n",
       "      <td>INVOICED</td>\n",
       "      <td>2020-07-07</td>\n",
       "      <td>0.0</td>\n",
       "      <td>0.0</td>\n",
       "      <td>NaN</td>\n",
       "      <td>NaN</td>\n",
       "    </tr>\n",
       "  </tbody>\n",
       "</table>\n",
       "</div>"
      ],
      "text/plain": [
       "                  Name  Sale Org  plant Territory      indent_no       So_No  \\\n",
       "0  Garg Medical Agency      1100   1001    Punjab  IND2021000003  3000002307   \n",
       "1  Garg Medical Agency      1100   1001    Punjab  IND2021000003  3000002307   \n",
       "2      Partap Surgical      1100   1001    Punjab  IND2021000002  3000002308   \n",
       "3      Partap Surgical      1100   1001    Punjab  IND2021000002  3000002308   \n",
       "4    R.K. Medical Hall      1100   1001    Punjab  IND2021000005  3000002309   \n",
       "\n",
       "     SO_DATE  Sale Order Qty  Sale Order Amount  BILL_DATE       BILL_NO  \\\n",
       "0 2020-07-01             NaN                NaN 2020-07-13  1.001102e+09   \n",
       "1 2020-07-01          1317.0           210906.0 2020-07-11  1.001102e+09   \n",
       "2 2020-07-01             NaN                NaN 2020-07-11  1.001102e+09   \n",
       "3 2020-07-01           269.0            48091.0 2020-07-04  1.001102e+09   \n",
       "4 2020-07-01           201.0            47100.0 2020-07-09  1.001102e+09   \n",
       "\n",
       "   Bill_Qty  Bill_Amt   Delivery_no                Status Approval_date  \\\n",
       "0       538   28158.0  8.000005e+09  PARTIAL SO CANCELLED    2020-07-09   \n",
       "1       755  172572.0  8.000005e+09  PARTIAL SO CANCELLED    2020-07-09   \n",
       "2       106   17368.0  8.000005e+09  PARTIAL SO CANCELLED    2020-07-01   \n",
       "3       106   24708.0  8.000004e+09  PARTIAL SO CANCELLED    2020-07-01   \n",
       "4       201   47100.0  8.000005e+09              INVOICED    2020-07-07   \n",
       "\n",
       "   Sale Order Pending Qty  Sale Order Pending Amount  Sale Order Cancel Qty  \\\n",
       "0                     NaN                        NaN                    NaN   \n",
       "1                     NaN                        NaN                   24.0   \n",
       "2                     NaN                        NaN                    NaN   \n",
       "3                     NaN                        NaN                   57.0   \n",
       "4                     0.0                        0.0                    NaN   \n",
       "\n",
       "   Sale Order Cancel Amount  \n",
       "0                       NaN  \n",
       "1                   10176.0  \n",
       "2                       NaN  \n",
       "3                    6015.0  \n",
       "4                       NaN  "
      ]
     },
     "execution_count": 3,
     "metadata": {},
     "output_type": "execute_result"
    }
   ],
   "source": [
    "df.head()"
   ]
  },
  {
   "cell_type": "code",
   "execution_count": 4,
   "metadata": {},
   "outputs": [
    {
     "name": "stdout",
     "output_type": "stream",
     "text": [
      "<class 'pandas.core.frame.DataFrame'>\n",
      "RangeIndex: 7239 entries, 0 to 7238\n",
      "Data columns (total 20 columns):\n",
      " #   Column                     Non-Null Count  Dtype         \n",
      "---  ------                     --------------  -----         \n",
      " 0   Name                       7239 non-null   object        \n",
      " 1   Sale Org                   7239 non-null   int64         \n",
      " 2   plant                      7239 non-null   int64         \n",
      " 3   Territory                  7131 non-null   object        \n",
      " 4   indent_no                  7221 non-null   object        \n",
      " 5   So_No                      7239 non-null   int64         \n",
      " 6   SO_DATE                    7239 non-null   datetime64[ns]\n",
      " 7   Sale Order Qty             4660 non-null   float64       \n",
      " 8   Sale Order Amount          4660 non-null   float64       \n",
      " 9   BILL_DATE                  6860 non-null   datetime64[ns]\n",
      " 10  BILL_NO                    6860 non-null   float64       \n",
      " 11  Bill_Qty                   7239 non-null   int64         \n",
      " 12  Bill_Amt                   7239 non-null   float64       \n",
      " 13  Delivery_no                6934 non-null   float64       \n",
      " 14  Status                     7239 non-null   object        \n",
      " 15  Approval_date              7152 non-null   datetime64[ns]\n",
      " 16  Sale Order Pending Qty     2629 non-null   float64       \n",
      " 17  Sale Order Pending Amount  2629 non-null   float64       \n",
      " 18  Sale Order Cancel Qty      2029 non-null   float64       \n",
      " 19  Sale Order Cancel Amount   2029 non-null   float64       \n",
      "dtypes: datetime64[ns](3), float64(9), int64(4), object(4)\n",
      "memory usage: 1.1+ MB\n"
     ]
    }
   ],
   "source": [
    "df.info()"
   ]
  },
  {
   "cell_type": "code",
   "execution_count": 5,
   "metadata": {},
   "outputs": [
    {
     "data": {
      "text/html": [
       "<div>\n",
       "<style scoped>\n",
       "    .dataframe tbody tr th:only-of-type {\n",
       "        vertical-align: middle;\n",
       "    }\n",
       "\n",
       "    .dataframe tbody tr th {\n",
       "        vertical-align: top;\n",
       "    }\n",
       "\n",
       "    .dataframe thead th {\n",
       "        text-align: right;\n",
       "    }\n",
       "</style>\n",
       "<table border=\"1\" class=\"dataframe\">\n",
       "  <thead>\n",
       "    <tr style=\"text-align: right;\">\n",
       "      <th></th>\n",
       "      <th>Sale Org</th>\n",
       "      <th>plant</th>\n",
       "      <th>So_No</th>\n",
       "      <th>Sale Order Qty</th>\n",
       "      <th>Sale Order Amount</th>\n",
       "      <th>BILL_NO</th>\n",
       "      <th>Bill_Qty</th>\n",
       "      <th>Bill_Amt</th>\n",
       "      <th>Delivery_no</th>\n",
       "      <th>Sale Order Pending Qty</th>\n",
       "      <th>Sale Order Pending Amount</th>\n",
       "      <th>Sale Order Cancel Qty</th>\n",
       "      <th>Sale Order Cancel Amount</th>\n",
       "    </tr>\n",
       "  </thead>\n",
       "  <tbody>\n",
       "    <tr>\n",
       "      <th>count</th>\n",
       "      <td>7239.000000</td>\n",
       "      <td>7239.000000</td>\n",
       "      <td>7.239000e+03</td>\n",
       "      <td>4660.000000</td>\n",
       "      <td>4.660000e+03</td>\n",
       "      <td>6.860000e+03</td>\n",
       "      <td>7239.000000</td>\n",
       "      <td>7.239000e+03</td>\n",
       "      <td>6.934000e+03</td>\n",
       "      <td>2629.000000</td>\n",
       "      <td>2.629000e+03</td>\n",
       "      <td>2029.000000</td>\n",
       "      <td>2.029000e+03</td>\n",
       "    </tr>\n",
       "    <tr>\n",
       "      <th>mean</th>\n",
       "      <td>1100.870286</td>\n",
       "      <td>4359.029977</td>\n",
       "      <td>3.098061e+09</td>\n",
       "      <td>534.393777</td>\n",
       "      <td>9.125164e+04</td>\n",
       "      <td>1.003147e+09</td>\n",
       "      <td>276.063545</td>\n",
       "      <td>4.814348e+04</td>\n",
       "      <td>8.001133e+09</td>\n",
       "      <td>104.187524</td>\n",
       "      <td>2.009379e+04</td>\n",
       "      <td>107.463282</td>\n",
       "      <td>1.177721e+04</td>\n",
       "    </tr>\n",
       "    <tr>\n",
       "      <th>std</th>\n",
       "      <td>9.288871</td>\n",
       "      <td>4020.602244</td>\n",
       "      <td>2.380748e+08</td>\n",
       "      <td>1260.124993</td>\n",
       "      <td>2.317898e+05</td>\n",
       "      <td>2.531986e+06</td>\n",
       "      <td>680.276186</td>\n",
       "      <td>1.235827e+05</td>\n",
       "      <td>1.054619e+07</td>\n",
       "      <td>729.131297</td>\n",
       "      <td>1.608843e+05</td>\n",
       "      <td>448.953813</td>\n",
       "      <td>4.271927e+04</td>\n",
       "    </tr>\n",
       "    <tr>\n",
       "      <th>min</th>\n",
       "      <td>1100.000000</td>\n",
       "      <td>1001.000000</td>\n",
       "      <td>3.000002e+09</td>\n",
       "      <td>0.000000</td>\n",
       "      <td>0.000000e+00</td>\n",
       "      <td>1.001102e+09</td>\n",
       "      <td>0.000000</td>\n",
       "      <td>0.000000e+00</td>\n",
       "      <td>8.000004e+09</td>\n",
       "      <td>0.000000</td>\n",
       "      <td>0.000000e+00</td>\n",
       "      <td>0.000000</td>\n",
       "      <td>0.000000e+00</td>\n",
       "    </tr>\n",
       "    <tr>\n",
       "      <th>25%</th>\n",
       "      <td>1100.000000</td>\n",
       "      <td>1001.000000</td>\n",
       "      <td>3.000003e+09</td>\n",
       "      <td>50.000000</td>\n",
       "      <td>4.163250e+03</td>\n",
       "      <td>1.001104e+09</td>\n",
       "      <td>20.000000</td>\n",
       "      <td>3.132000e+03</td>\n",
       "      <td>8.000006e+09</td>\n",
       "      <td>0.000000</td>\n",
       "      <td>0.000000e+00</td>\n",
       "      <td>10.000000</td>\n",
       "      <td>2.316000e+03</td>\n",
       "    </tr>\n",
       "    <tr>\n",
       "      <th>50%</th>\n",
       "      <td>1100.000000</td>\n",
       "      <td>1001.000000</td>\n",
       "      <td>3.000004e+09</td>\n",
       "      <td>245.000000</td>\n",
       "      <td>4.146450e+04</td>\n",
       "      <td>1.001105e+09</td>\n",
       "      <td>100.000000</td>\n",
       "      <td>1.806400e+04</td>\n",
       "      <td>8.000008e+09</td>\n",
       "      <td>0.000000</td>\n",
       "      <td>0.000000e+00</td>\n",
       "      <td>30.000000</td>\n",
       "      <td>4.804000e+03</td>\n",
       "    </tr>\n",
       "    <tr>\n",
       "      <th>75%</th>\n",
       "      <td>1100.000000</td>\n",
       "      <td>9201.000000</td>\n",
       "      <td>3.000005e+09</td>\n",
       "      <td>562.000000</td>\n",
       "      <td>9.665800e+04</td>\n",
       "      <td>1.006101e+09</td>\n",
       "      <td>298.000000</td>\n",
       "      <td>4.752250e+04</td>\n",
       "      <td>8.000010e+09</td>\n",
       "      <td>8.000000</td>\n",
       "      <td>1.236000e+03</td>\n",
       "      <td>96.000000</td>\n",
       "      <td>1.054300e+04</td>\n",
       "    </tr>\n",
       "    <tr>\n",
       "      <th>max</th>\n",
       "      <td>1200.000000</td>\n",
       "      <td>9202.000000</td>\n",
       "      <td>3.900001e+09</td>\n",
       "      <td>26756.000000</td>\n",
       "      <td>4.496600e+06</td>\n",
       "      <td>1.007250e+09</td>\n",
       "      <td>15444.000000</td>\n",
       "      <td>2.524301e+06</td>\n",
       "      <td>8.100000e+09</td>\n",
       "      <td>17836.000000</td>\n",
       "      <td>4.276834e+06</td>\n",
       "      <td>15018.000000</td>\n",
       "      <td>1.195146e+06</td>\n",
       "    </tr>\n",
       "  </tbody>\n",
       "</table>\n",
       "</div>"
      ],
      "text/plain": [
       "          Sale Org        plant         So_No  Sale Order Qty  \\\n",
       "count  7239.000000  7239.000000  7.239000e+03     4660.000000   \n",
       "mean   1100.870286  4359.029977  3.098061e+09      534.393777   \n",
       "std       9.288871  4020.602244  2.380748e+08     1260.124993   \n",
       "min    1100.000000  1001.000000  3.000002e+09        0.000000   \n",
       "25%    1100.000000  1001.000000  3.000003e+09       50.000000   \n",
       "50%    1100.000000  1001.000000  3.000004e+09      245.000000   \n",
       "75%    1100.000000  9201.000000  3.000005e+09      562.000000   \n",
       "max    1200.000000  9202.000000  3.900001e+09    26756.000000   \n",
       "\n",
       "       Sale Order Amount       BILL_NO      Bill_Qty      Bill_Amt  \\\n",
       "count       4.660000e+03  6.860000e+03   7239.000000  7.239000e+03   \n",
       "mean        9.125164e+04  1.003147e+09    276.063545  4.814348e+04   \n",
       "std         2.317898e+05  2.531986e+06    680.276186  1.235827e+05   \n",
       "min         0.000000e+00  1.001102e+09      0.000000  0.000000e+00   \n",
       "25%         4.163250e+03  1.001104e+09     20.000000  3.132000e+03   \n",
       "50%         4.146450e+04  1.001105e+09    100.000000  1.806400e+04   \n",
       "75%         9.665800e+04  1.006101e+09    298.000000  4.752250e+04   \n",
       "max         4.496600e+06  1.007250e+09  15444.000000  2.524301e+06   \n",
       "\n",
       "        Delivery_no  Sale Order Pending Qty  Sale Order Pending Amount  \\\n",
       "count  6.934000e+03             2629.000000               2.629000e+03   \n",
       "mean   8.001133e+09              104.187524               2.009379e+04   \n",
       "std    1.054619e+07              729.131297               1.608843e+05   \n",
       "min    8.000004e+09                0.000000               0.000000e+00   \n",
       "25%    8.000006e+09                0.000000               0.000000e+00   \n",
       "50%    8.000008e+09                0.000000               0.000000e+00   \n",
       "75%    8.000010e+09                8.000000               1.236000e+03   \n",
       "max    8.100000e+09            17836.000000               4.276834e+06   \n",
       "\n",
       "       Sale Order Cancel Qty  Sale Order Cancel Amount  \n",
       "count            2029.000000              2.029000e+03  \n",
       "mean              107.463282              1.177721e+04  \n",
       "std               448.953813              4.271927e+04  \n",
       "min                 0.000000              0.000000e+00  \n",
       "25%                10.000000              2.316000e+03  \n",
       "50%                30.000000              4.804000e+03  \n",
       "75%                96.000000              1.054300e+04  \n",
       "max             15018.000000              1.195146e+06  "
      ]
     },
     "execution_count": 5,
     "metadata": {},
     "output_type": "execute_result"
    }
   ],
   "source": [
    "df.describe()"
   ]
  },
  {
   "cell_type": "code",
   "execution_count": 6,
   "metadata": {},
   "outputs": [],
   "source": [
    "sales = df[['SO_DATE','Sale Order Amount']]"
   ]
  },
  {
   "cell_type": "code",
   "execution_count": 7,
   "metadata": {},
   "outputs": [
    {
     "data": {
      "text/html": [
       "<div>\n",
       "<style scoped>\n",
       "    .dataframe tbody tr th:only-of-type {\n",
       "        vertical-align: middle;\n",
       "    }\n",
       "\n",
       "    .dataframe tbody tr th {\n",
       "        vertical-align: top;\n",
       "    }\n",
       "\n",
       "    .dataframe thead th {\n",
       "        text-align: right;\n",
       "    }\n",
       "</style>\n",
       "<table border=\"1\" class=\"dataframe\">\n",
       "  <thead>\n",
       "    <tr style=\"text-align: right;\">\n",
       "      <th></th>\n",
       "      <th>SO_DATE</th>\n",
       "      <th>Sale Order Amount</th>\n",
       "    </tr>\n",
       "  </thead>\n",
       "  <tbody>\n",
       "    <tr>\n",
       "      <th>0</th>\n",
       "      <td>2020-07-01</td>\n",
       "      <td>NaN</td>\n",
       "    </tr>\n",
       "    <tr>\n",
       "      <th>1</th>\n",
       "      <td>2020-07-01</td>\n",
       "      <td>210906.0</td>\n",
       "    </tr>\n",
       "    <tr>\n",
       "      <th>2</th>\n",
       "      <td>2020-07-01</td>\n",
       "      <td>NaN</td>\n",
       "    </tr>\n",
       "    <tr>\n",
       "      <th>3</th>\n",
       "      <td>2020-07-01</td>\n",
       "      <td>48091.0</td>\n",
       "    </tr>\n",
       "    <tr>\n",
       "      <th>4</th>\n",
       "      <td>2020-07-01</td>\n",
       "      <td>47100.0</td>\n",
       "    </tr>\n",
       "  </tbody>\n",
       "</table>\n",
       "</div>"
      ],
      "text/plain": [
       "     SO_DATE  Sale Order Amount\n",
       "0 2020-07-01                NaN\n",
       "1 2020-07-01           210906.0\n",
       "2 2020-07-01                NaN\n",
       "3 2020-07-01            48091.0\n",
       "4 2020-07-01            47100.0"
      ]
     },
     "execution_count": 7,
     "metadata": {},
     "output_type": "execute_result"
    }
   ],
   "source": [
    "sales.head()"
   ]
  },
  {
   "cell_type": "code",
   "execution_count": 8,
   "metadata": {},
   "outputs": [
    {
     "name": "stderr",
     "output_type": "stream",
     "text": [
      "F:\\Anaconda\\lib\\site-packages\\ipykernel_launcher.py:1: SettingWithCopyWarning: \n",
      "A value is trying to be set on a copy of a slice from a DataFrame\n",
      "\n",
      "See the caveats in the documentation: https://pandas.pydata.org/pandas-docs/stable/user_guide/indexing.html#returning-a-view-versus-a-copy\n",
      "  \"\"\"Entry point for launching an IPython kernel.\n"
     ]
    }
   ],
   "source": [
    "sales.dropna(inplace=True)"
   ]
  },
  {
   "cell_type": "code",
   "execution_count": null,
   "metadata": {},
   "outputs": [],
   "source": []
  },
  {
   "cell_type": "code",
   "execution_count": 9,
   "metadata": {},
   "outputs": [
    {
     "data": {
      "text/html": [
       "<div>\n",
       "<style scoped>\n",
       "    .dataframe tbody tr th:only-of-type {\n",
       "        vertical-align: middle;\n",
       "    }\n",
       "\n",
       "    .dataframe tbody tr th {\n",
       "        vertical-align: top;\n",
       "    }\n",
       "\n",
       "    .dataframe thead th {\n",
       "        text-align: right;\n",
       "    }\n",
       "</style>\n",
       "<table border=\"1\" class=\"dataframe\">\n",
       "  <thead>\n",
       "    <tr style=\"text-align: right;\">\n",
       "      <th></th>\n",
       "      <th>SO_DATE</th>\n",
       "      <th>Sale Order Amount</th>\n",
       "    </tr>\n",
       "  </thead>\n",
       "  <tbody>\n",
       "    <tr>\n",
       "      <th>1</th>\n",
       "      <td>2020-07-01</td>\n",
       "      <td>210906.0</td>\n",
       "    </tr>\n",
       "    <tr>\n",
       "      <th>3</th>\n",
       "      <td>2020-07-01</td>\n",
       "      <td>48091.0</td>\n",
       "    </tr>\n",
       "    <tr>\n",
       "      <th>4</th>\n",
       "      <td>2020-07-01</td>\n",
       "      <td>47100.0</td>\n",
       "    </tr>\n",
       "    <tr>\n",
       "      <th>6</th>\n",
       "      <td>2020-07-01</td>\n",
       "      <td>170184.0</td>\n",
       "    </tr>\n",
       "    <tr>\n",
       "      <th>8</th>\n",
       "      <td>2020-07-01</td>\n",
       "      <td>38592.0</td>\n",
       "    </tr>\n",
       "  </tbody>\n",
       "</table>\n",
       "</div>"
      ],
      "text/plain": [
       "     SO_DATE  Sale Order Amount\n",
       "1 2020-07-01           210906.0\n",
       "3 2020-07-01            48091.0\n",
       "4 2020-07-01            47100.0\n",
       "6 2020-07-01           170184.0\n",
       "8 2020-07-01            38592.0"
      ]
     },
     "execution_count": 9,
     "metadata": {},
     "output_type": "execute_result"
    }
   ],
   "source": [
    "sales.head()"
   ]
  },
  {
   "cell_type": "code",
   "execution_count": 10,
   "metadata": {},
   "outputs": [],
   "source": [
    "sales.columns = ['Month','Sales']"
   ]
  },
  {
   "cell_type": "code",
   "execution_count": 11,
   "metadata": {},
   "outputs": [],
   "source": [
    "sales.set_index('Month',inplace=True)"
   ]
  },
  {
   "cell_type": "code",
   "execution_count": 12,
   "metadata": {},
   "outputs": [
    {
     "data": {
      "text/html": [
       "<div>\n",
       "<style scoped>\n",
       "    .dataframe tbody tr th:only-of-type {\n",
       "        vertical-align: middle;\n",
       "    }\n",
       "\n",
       "    .dataframe tbody tr th {\n",
       "        vertical-align: top;\n",
       "    }\n",
       "\n",
       "    .dataframe thead th {\n",
       "        text-align: right;\n",
       "    }\n",
       "</style>\n",
       "<table border=\"1\" class=\"dataframe\">\n",
       "  <thead>\n",
       "    <tr style=\"text-align: right;\">\n",
       "      <th></th>\n",
       "      <th>Sales</th>\n",
       "    </tr>\n",
       "    <tr>\n",
       "      <th>Month</th>\n",
       "      <th></th>\n",
       "    </tr>\n",
       "  </thead>\n",
       "  <tbody>\n",
       "    <tr>\n",
       "      <th>2020-07-01</th>\n",
       "      <td>210906.0</td>\n",
       "    </tr>\n",
       "    <tr>\n",
       "      <th>2020-07-01</th>\n",
       "      <td>48091.0</td>\n",
       "    </tr>\n",
       "    <tr>\n",
       "      <th>2020-07-01</th>\n",
       "      <td>47100.0</td>\n",
       "    </tr>\n",
       "    <tr>\n",
       "      <th>2020-07-01</th>\n",
       "      <td>170184.0</td>\n",
       "    </tr>\n",
       "    <tr>\n",
       "      <th>2020-07-01</th>\n",
       "      <td>38592.0</td>\n",
       "    </tr>\n",
       "  </tbody>\n",
       "</table>\n",
       "</div>"
      ],
      "text/plain": [
       "               Sales\n",
       "Month               \n",
       "2020-07-01  210906.0\n",
       "2020-07-01   48091.0\n",
       "2020-07-01   47100.0\n",
       "2020-07-01  170184.0\n",
       "2020-07-01   38592.0"
      ]
     },
     "execution_count": 12,
     "metadata": {},
     "output_type": "execute_result"
    }
   ],
   "source": [
    "sales.head()"
   ]
  },
  {
   "cell_type": "code",
   "execution_count": 13,
   "metadata": {},
   "outputs": [
    {
     "data": {
      "text/plain": [
       "<matplotlib.axes._subplots.AxesSubplot at 0x1b598a4bac8>"
      ]
     },
     "execution_count": 13,
     "metadata": {},
     "output_type": "execute_result"
    },
    {
     "data": {
      "image/png": "[encoded data removed]",
      "text/plain": [
       "<Figure size 1152x432 with 1 Axes>"
      ]
     },
     "metadata": {
      "needs_background": "light"
     },
     "output_type": "display_data"
    }
   ],
   "source": [
    "sales.plot(figsize=(16,6))"
   ]
  },
  {
   "cell_type": "code",
   "execution_count": 14,
   "metadata": {},
   "outputs": [],
   "source": [
    "sales_mean = sales.resample('D').sum()"
   ]
  },
  {
   "cell_type": "code",
   "execution_count": 15,
   "metadata": {},
   "outputs": [
    {
     "data": {
      "text/html": [
       "<div>\n",
       "<style scoped>\n",
       "    .dataframe tbody tr th:only-of-type {\n",
       "        vertical-align: middle;\n",
       "    }\n",
       "\n",
       "    .dataframe tbody tr th {\n",
       "        vertical-align: top;\n",
       "    }\n",
       "\n",
       "    .dataframe thead th {\n",
       "        text-align: right;\n",
       "    }\n",
       "</style>\n",
       "<table border=\"1\" class=\"dataframe\">\n",
       "  <thead>\n",
       "    <tr style=\"text-align: right;\">\n",
       "      <th></th>\n",
       "      <th>Sales</th>\n",
       "    </tr>\n",
       "    <tr>\n",
       "      <th>Month</th>\n",
       "      <th></th>\n",
       "    </tr>\n",
       "  </thead>\n",
       "  <tbody>\n",
       "    <tr>\n",
       "      <th>2020-09-05</th>\n",
       "      <td>5168518.95</td>\n",
       "    </tr>\n",
       "    <tr>\n",
       "      <th>2020-09-06</th>\n",
       "      <td>0.00</td>\n",
       "    </tr>\n",
       "    <tr>\n",
       "      <th>2020-09-07</th>\n",
       "      <td>5417210.00</td>\n",
       "    </tr>\n",
       "    <tr>\n",
       "      <th>2020-09-08</th>\n",
       "      <td>6821728.00</td>\n",
       "    </tr>\n",
       "    <tr>\n",
       "      <th>2020-09-09</th>\n",
       "      <td>225903.00</td>\n",
       "    </tr>\n",
       "  </tbody>\n",
       "</table>\n",
       "</div>"
      ],
      "text/plain": [
       "                 Sales\n",
       "Month                 \n",
       "2020-09-05  5168518.95\n",
       "2020-09-06        0.00\n",
       "2020-09-07  5417210.00\n",
       "2020-09-08  6821728.00\n",
       "2020-09-09   225903.00"
      ]
     },
     "execution_count": 15,
     "metadata": {},
     "output_type": "execute_result"
    }
   ],
   "source": [
    "sales_mean.tail()"
   ]
  },
  {
   "cell_type": "code",
   "execution_count": 16,
   "metadata": {},
   "outputs": [],
   "source": [
    "sales_mean.dropna(inplace=True)"
   ]
  },
  {
   "cell_type": "code",
   "execution_count": 17,
   "metadata": {},
   "outputs": [
    {
     "data": {
      "text/plain": [
       "<matplotlib.axes._subplots.AxesSubplot at 0x1b5985606c8>"
      ]
     },
     "execution_count": 17,
     "metadata": {},
     "output_type": "execute_result"
    },
    {
     "data": {
      "image/png": "[encoded data removed]",
      "text/plain": [
       "<Figure size 432x288 with 1 Axes>"
      ]
     },
     "metadata": {
      "needs_background": "light"
     },
     "output_type": "display_data"
    }
   ],
   "source": [
    "sales_mean.plot()"
   ]
  },
  {
   "cell_type": "code",
   "execution_count": 18,
   "metadata": {},
   "outputs": [],
   "source": [
    "def convet_int(x):\n",
    "    try:\n",
    "        return int(x)\n",
    "    except:\n",
    "        return None"
   ]
  },
  {
   "cell_type": "code",
   "execution_count": 19,
   "metadata": {},
   "outputs": [],
   "source": [
    "sales_mean['Sales'] = sales_mean['Sales'].apply(convet_int)"
   ]
  },
  {
   "cell_type": "code",
   "execution_count": 20,
   "metadata": {},
   "outputs": [
    {
     "data": {
      "text/html": [
       "<div>\n",
       "<style scoped>\n",
       "    .dataframe tbody tr th:only-of-type {\n",
       "        vertical-align: middle;\n",
       "    }\n",
       "\n",
       "    .dataframe tbody tr th {\n",
       "        vertical-align: top;\n",
       "    }\n",
       "\n",
       "    .dataframe thead th {\n",
       "        text-align: right;\n",
       "    }\n",
       "</style>\n",
       "<table border=\"1\" class=\"dataframe\">\n",
       "  <thead>\n",
       "    <tr style=\"text-align: right;\">\n",
       "      <th></th>\n",
       "      <th>Sale Org</th>\n",
       "      <th>plant</th>\n",
       "      <th>So_No</th>\n",
       "      <th>Sale Order Qty</th>\n",
       "      <th>Sale Order Amount</th>\n",
       "      <th>BILL_NO</th>\n",
       "      <th>Bill_Qty</th>\n",
       "      <th>Bill_Amt</th>\n",
       "      <th>Delivery_no</th>\n",
       "      <th>Sale Order Pending Qty</th>\n",
       "      <th>Sale Order Pending Amount</th>\n",
       "      <th>Sale Order Cancel Qty</th>\n",
       "      <th>Sale Order Cancel Amount</th>\n",
       "    </tr>\n",
       "  </thead>\n",
       "  <tbody>\n",
       "    <tr>\n",
       "      <th>count</th>\n",
       "      <td>7239.000000</td>\n",
       "      <td>7239.000000</td>\n",
       "      <td>7.239000e+03</td>\n",
       "      <td>4660.000000</td>\n",
       "      <td>4.660000e+03</td>\n",
       "      <td>6.860000e+03</td>\n",
       "      <td>7239.000000</td>\n",
       "      <td>7.239000e+03</td>\n",
       "      <td>6.934000e+03</td>\n",
       "      <td>2629.000000</td>\n",
       "      <td>2.629000e+03</td>\n",
       "      <td>2029.000000</td>\n",
       "      <td>2.029000e+03</td>\n",
       "    </tr>\n",
       "    <tr>\n",
       "      <th>mean</th>\n",
       "      <td>1100.870286</td>\n",
       "      <td>4359.029977</td>\n",
       "      <td>3.098061e+09</td>\n",
       "      <td>534.393777</td>\n",
       "      <td>9.125164e+04</td>\n",
       "      <td>1.003147e+09</td>\n",
       "      <td>276.063545</td>\n",
       "      <td>4.814348e+04</td>\n",
       "      <td>8.001133e+09</td>\n",
       "      <td>104.187524</td>\n",
       "      <td>2.009379e+04</td>\n",
       "      <td>107.463282</td>\n",
       "      <td>1.177721e+04</td>\n",
       "    </tr>\n",
       "    <tr>\n",
       "      <th>std</th>\n",
       "      <td>9.288871</td>\n",
       "      <td>4020.602244</td>\n",
       "      <td>2.380748e+08</td>\n",
       "      <td>1260.124993</td>\n",
       "      <td>2.317898e+05</td>\n",
       "      <td>2.531986e+06</td>\n",
       "      <td>680.276186</td>\n",
       "      <td>1.235827e+05</td>\n",
       "      <td>1.054619e+07</td>\n",
       "      <td>729.131297</td>\n",
       "      <td>1.608843e+05</td>\n",
       "      <td>448.953813</td>\n",
       "      <td>4.271927e+04</td>\n",
       "    </tr>\n",
       "    <tr>\n",
       "      <th>min</th>\n",
       "      <td>1100.000000</td>\n",
       "      <td>1001.000000</td>\n",
       "      <td>3.000002e+09</td>\n",
       "      <td>0.000000</td>\n",
       "      <td>0.000000e+00</td>\n",
       "      <td>1.001102e+09</td>\n",
       "      <td>0.000000</td>\n",
       "      <td>0.000000e+00</td>\n",
       "      <td>8.000004e+09</td>\n",
       "      <td>0.000000</td>\n",
       "      <td>0.000000e+00</td>\n",
       "      <td>0.000000</td>\n",
       "      <td>0.000000e+00</td>\n",
       "    </tr>\n",
       "    <tr>\n",
       "      <th>25%</th>\n",
       "      <td>1100.000000</td>\n",
       "      <td>1001.000000</td>\n",
       "      <td>3.000003e+09</td>\n",
       "      <td>50.000000</td>\n",
       "      <td>4.163250e+03</td>\n",
       "      <td>1.001104e+09</td>\n",
       "      <td>20.000000</td>\n",
       "      <td>3.132000e+03</td>\n",
       "      <td>8.000006e+09</td>\n",
       "      <td>0.000000</td>\n",
       "      <td>0.000000e+00</td>\n",
       "      <td>10.000000</td>\n",
       "      <td>2.316000e+03</td>\n",
       "    </tr>\n",
       "    <tr>\n",
       "      <th>50%</th>\n",
       "      <td>1100.000000</td>\n",
       "      <td>1001.000000</td>\n",
       "      <td>3.000004e+09</td>\n",
       "      <td>245.000000</td>\n",
       "      <td>4.146450e+04</td>\n",
       "      <td>1.001105e+09</td>\n",
       "      <td>100.000000</td>\n",
       "      <td>1.806400e+04</td>\n",
       "      <td>8.000008e+09</td>\n",
       "      <td>0.000000</td>\n",
       "      <td>0.000000e+00</td>\n",
       "      <td>30.000000</td>\n",
       "      <td>4.804000e+03</td>\n",
       "    </tr>\n",
       "    <tr>\n",
       "      <th>75%</th>\n",
       "      <td>1100.000000</td>\n",
       "      <td>9201.000000</td>\n",
       "      <td>3.000005e+09</td>\n",
       "      <td>562.000000</td>\n",
       "      <td>9.665800e+04</td>\n",
       "      <td>1.006101e+09</td>\n",
       "      <td>298.000000</td>\n",
       "      <td>4.752250e+04</td>\n",
       "      <td>8.000010e+09</td>\n",
       "      <td>8.000000</td>\n",
       "      <td>1.236000e+03</td>\n",
       "      <td>96.000000</td>\n",
       "      <td>1.054300e+04</td>\n",
       "    </tr>\n",
       "    <tr>\n",
       "      <th>max</th>\n",
       "      <td>1200.000000</td>\n",
       "      <td>9202.000000</td>\n",
       "      <td>3.900001e+09</td>\n",
       "      <td>26756.000000</td>\n",
       "      <td>4.496600e+06</td>\n",
       "      <td>1.007250e+09</td>\n",
       "      <td>15444.000000</td>\n",
       "      <td>2.524301e+06</td>\n",
       "      <td>8.100000e+09</td>\n",
       "      <td>17836.000000</td>\n",
       "      <td>4.276834e+06</td>\n",
       "      <td>15018.000000</td>\n",
       "      <td>1.195146e+06</td>\n",
       "    </tr>\n",
       "  </tbody>\n",
       "</table>\n",
       "</div>"
      ],
      "text/plain": [
       "          Sale Org        plant         So_No  Sale Order Qty  \\\n",
       "count  7239.000000  7239.000000  7.239000e+03     4660.000000   \n",
       "mean   1100.870286  4359.029977  3.098061e+09      534.393777   \n",
       "std       9.288871  4020.602244  2.380748e+08     1260.124993   \n",
       "min    1100.000000  1001.000000  3.000002e+09        0.000000   \n",
       "25%    1100.000000  1001.000000  3.000003e+09       50.000000   \n",
       "50%    1100.000000  1001.000000  3.000004e+09      245.000000   \n",
       "75%    1100.000000  9201.000000  3.000005e+09      562.000000   \n",
       "max    1200.000000  9202.000000  3.900001e+09    26756.000000   \n",
       "\n",
       "       Sale Order Amount       BILL_NO      Bill_Qty      Bill_Amt  \\\n",
       "count       4.660000e+03  6.860000e+03   7239.000000  7.239000e+03   \n",
       "mean        9.125164e+04  1.003147e+09    276.063545  4.814348e+04   \n",
       "std         2.317898e+05  2.531986e+06    680.276186  1.235827e+05   \n",
       "min         0.000000e+00  1.001102e+09      0.000000  0.000000e+00   \n",
       "25%         4.163250e+03  1.001104e+09     20.000000  3.132000e+03   \n",
       "50%         4.146450e+04  1.001105e+09    100.000000  1.806400e+04   \n",
       "75%         9.665800e+04  1.006101e+09    298.000000  4.752250e+04   \n",
       "max         4.496600e+06  1.007250e+09  15444.000000  2.524301e+06   \n",
       "\n",
       "        Delivery_no  Sale Order Pending Qty  Sale Order Pending Amount  \\\n",
       "count  6.934000e+03             2629.000000               2.629000e+03   \n",
       "mean   8.001133e+09              104.187524               2.009379e+04   \n",
       "std    1.054619e+07              729.131297               1.608843e+05   \n",
       "min    8.000004e+09                0.000000               0.000000e+00   \n",
       "25%    8.000006e+09                0.000000               0.000000e+00   \n",
       "50%    8.000008e+09                0.000000               0.000000e+00   \n",
       "75%    8.000010e+09                8.000000               1.236000e+03   \n",
       "max    8.100000e+09            17836.000000               4.276834e+06   \n",
       "\n",
       "       Sale Order Cancel Qty  Sale Order Cancel Amount  \n",
       "count            2029.000000              2.029000e+03  \n",
       "mean              107.463282              1.177721e+04  \n",
       "std               448.953813              4.271927e+04  \n",
       "min                 0.000000              0.000000e+00  \n",
       "25%                10.000000              2.316000e+03  \n",
       "50%                30.000000              4.804000e+03  \n",
       "75%                96.000000              1.054300e+04  \n",
       "max             15018.000000              1.195146e+06  "
      ]
     },
     "execution_count": 20,
     "metadata": {},
     "output_type": "execute_result"
    }
   ],
   "source": [
    "df.describe()"
   ]
  },
  {
   "cell_type": "code",
   "execution_count": 21,
   "metadata": {},
   "outputs": [],
   "source": [
    "df = pd.DataFrame(df)"
   ]
  },
  {
   "cell_type": "code",
   "execution_count": 22,
   "metadata": {
    "scrolled": true
   },
   "outputs": [
    {
     "data": {
      "text/html": [
       "<div>\n",
       "<style scoped>\n",
       "    .dataframe tbody tr th:only-of-type {\n",
       "        vertical-align: middle;\n",
       "    }\n",
       "\n",
       "    .dataframe tbody tr th {\n",
       "        vertical-align: top;\n",
       "    }\n",
       "\n",
       "    .dataframe thead th {\n",
       "        text-align: right;\n",
       "    }\n",
       "</style>\n",
       "<table border=\"1\" class=\"dataframe\">\n",
       "  <thead>\n",
       "    <tr style=\"text-align: right;\">\n",
       "      <th></th>\n",
       "      <th>Sales</th>\n",
       "    </tr>\n",
       "    <tr>\n",
       "      <th>Month</th>\n",
       "      <th></th>\n",
       "    </tr>\n",
       "  </thead>\n",
       "  <tbody>\n",
       "    <tr>\n",
       "      <th>2020-07-01</th>\n",
       "      <td>6878377</td>\n",
       "    </tr>\n",
       "    <tr>\n",
       "      <th>2020-07-02</th>\n",
       "      <td>5098339</td>\n",
       "    </tr>\n",
       "    <tr>\n",
       "      <th>2020-07-03</th>\n",
       "      <td>3285778</td>\n",
       "    </tr>\n",
       "    <tr>\n",
       "      <th>2020-07-04</th>\n",
       "      <td>3534637</td>\n",
       "    </tr>\n",
       "    <tr>\n",
       "      <th>2020-07-05</th>\n",
       "      <td>532965</td>\n",
       "    </tr>\n",
       "  </tbody>\n",
       "</table>\n",
       "</div>"
      ],
      "text/plain": [
       "              Sales\n",
       "Month              \n",
       "2020-07-01  6878377\n",
       "2020-07-02  5098339\n",
       "2020-07-03  3285778\n",
       "2020-07-04  3534637\n",
       "2020-07-05   532965"
      ]
     },
     "execution_count": 22,
     "metadata": {},
     "output_type": "execute_result"
    }
   ],
   "source": [
    "sales_mean.head()"
   ]
  },
  {
   "cell_type": "code",
   "execution_count": 23,
   "metadata": {},
   "outputs": [
    {
     "data": {
      "text/html": [
       "<div>\n",
       "<style scoped>\n",
       "    .dataframe tbody tr th:only-of-type {\n",
       "        vertical-align: middle;\n",
       "    }\n",
       "\n",
       "    .dataframe tbody tr th {\n",
       "        vertical-align: top;\n",
       "    }\n",
       "\n",
       "    .dataframe thead th {\n",
       "        text-align: right;\n",
       "    }\n",
       "</style>\n",
       "<table border=\"1\" class=\"dataframe\">\n",
       "  <thead>\n",
       "    <tr style=\"text-align: right;\">\n",
       "      <th></th>\n",
       "      <th>Sales</th>\n",
       "    </tr>\n",
       "    <tr>\n",
       "      <th>Month</th>\n",
       "      <th></th>\n",
       "    </tr>\n",
       "  </thead>\n",
       "  <tbody>\n",
       "    <tr>\n",
       "      <th>2020-07-01</th>\n",
       "      <td>6878377</td>\n",
       "    </tr>\n",
       "    <tr>\n",
       "      <th>2020-07-02</th>\n",
       "      <td>5098339</td>\n",
       "    </tr>\n",
       "    <tr>\n",
       "      <th>2020-07-03</th>\n",
       "      <td>3285778</td>\n",
       "    </tr>\n",
       "    <tr>\n",
       "      <th>2020-07-04</th>\n",
       "      <td>3534637</td>\n",
       "    </tr>\n",
       "    <tr>\n",
       "      <th>2020-07-05</th>\n",
       "      <td>532965</td>\n",
       "    </tr>\n",
       "    <tr>\n",
       "      <th>2020-07-06</th>\n",
       "      <td>3818449</td>\n",
       "    </tr>\n",
       "    <tr>\n",
       "      <th>2020-07-07</th>\n",
       "      <td>3875165</td>\n",
       "    </tr>\n",
       "    <tr>\n",
       "      <th>2020-07-08</th>\n",
       "      <td>9823834</td>\n",
       "    </tr>\n",
       "    <tr>\n",
       "      <th>2020-07-09</th>\n",
       "      <td>7232730</td>\n",
       "    </tr>\n",
       "    <tr>\n",
       "      <th>2020-07-10</th>\n",
       "      <td>7131037</td>\n",
       "    </tr>\n",
       "    <tr>\n",
       "      <th>2020-07-11</th>\n",
       "      <td>4424160</td>\n",
       "    </tr>\n",
       "    <tr>\n",
       "      <th>2020-07-12</th>\n",
       "      <td>295710</td>\n",
       "    </tr>\n",
       "    <tr>\n",
       "      <th>2020-07-13</th>\n",
       "      <td>5171912</td>\n",
       "    </tr>\n",
       "    <tr>\n",
       "      <th>2020-07-14</th>\n",
       "      <td>6665205</td>\n",
       "    </tr>\n",
       "    <tr>\n",
       "      <th>2020-07-15</th>\n",
       "      <td>5472357</td>\n",
       "    </tr>\n",
       "    <tr>\n",
       "      <th>2020-07-16</th>\n",
       "      <td>5201629</td>\n",
       "    </tr>\n",
       "    <tr>\n",
       "      <th>2020-07-17</th>\n",
       "      <td>5201559</td>\n",
       "    </tr>\n",
       "    <tr>\n",
       "      <th>2020-07-18</th>\n",
       "      <td>4815244</td>\n",
       "    </tr>\n",
       "    <tr>\n",
       "      <th>2020-07-19</th>\n",
       "      <td>537799</td>\n",
       "    </tr>\n",
       "    <tr>\n",
       "      <th>2020-07-20</th>\n",
       "      <td>5608510</td>\n",
       "    </tr>\n",
       "    <tr>\n",
       "      <th>2020-07-21</th>\n",
       "      <td>12104523</td>\n",
       "    </tr>\n",
       "    <tr>\n",
       "      <th>2020-07-22</th>\n",
       "      <td>7223126</td>\n",
       "    </tr>\n",
       "    <tr>\n",
       "      <th>2020-07-23</th>\n",
       "      <td>8987891</td>\n",
       "    </tr>\n",
       "    <tr>\n",
       "      <th>2020-07-24</th>\n",
       "      <td>10154905</td>\n",
       "    </tr>\n",
       "    <tr>\n",
       "      <th>2020-07-25</th>\n",
       "      <td>4626484</td>\n",
       "    </tr>\n",
       "    <tr>\n",
       "      <th>2020-07-26</th>\n",
       "      <td>1354310</td>\n",
       "    </tr>\n",
       "    <tr>\n",
       "      <th>2020-07-27</th>\n",
       "      <td>10996499</td>\n",
       "    </tr>\n",
       "    <tr>\n",
       "      <th>2020-07-28</th>\n",
       "      <td>7799008</td>\n",
       "    </tr>\n",
       "    <tr>\n",
       "      <th>2020-07-29</th>\n",
       "      <td>7359171</td>\n",
       "    </tr>\n",
       "    <tr>\n",
       "      <th>2020-07-30</th>\n",
       "      <td>5123522</td>\n",
       "    </tr>\n",
       "    <tr>\n",
       "      <th>2020-07-31</th>\n",
       "      <td>9997788</td>\n",
       "    </tr>\n",
       "    <tr>\n",
       "      <th>2020-08-01</th>\n",
       "      <td>6639610</td>\n",
       "    </tr>\n",
       "    <tr>\n",
       "      <th>2020-08-02</th>\n",
       "      <td>1112892</td>\n",
       "    </tr>\n",
       "    <tr>\n",
       "      <th>2020-08-03</th>\n",
       "      <td>5763924</td>\n",
       "    </tr>\n",
       "    <tr>\n",
       "      <th>2020-08-04</th>\n",
       "      <td>4432081</td>\n",
       "    </tr>\n",
       "    <tr>\n",
       "      <th>2020-08-05</th>\n",
       "      <td>2479115</td>\n",
       "    </tr>\n",
       "    <tr>\n",
       "      <th>2020-08-06</th>\n",
       "      <td>10099277</td>\n",
       "    </tr>\n",
       "    <tr>\n",
       "      <th>2020-08-07</th>\n",
       "      <td>4494763</td>\n",
       "    </tr>\n",
       "    <tr>\n",
       "      <th>2020-08-08</th>\n",
       "      <td>3885612</td>\n",
       "    </tr>\n",
       "    <tr>\n",
       "      <th>2020-08-09</th>\n",
       "      <td>457938</td>\n",
       "    </tr>\n",
       "    <tr>\n",
       "      <th>2020-08-10</th>\n",
       "      <td>5294322</td>\n",
       "    </tr>\n",
       "    <tr>\n",
       "      <th>2020-08-11</th>\n",
       "      <td>3621329</td>\n",
       "    </tr>\n",
       "    <tr>\n",
       "      <th>2020-08-12</th>\n",
       "      <td>6895408</td>\n",
       "    </tr>\n",
       "    <tr>\n",
       "      <th>2020-08-13</th>\n",
       "      <td>8389562</td>\n",
       "    </tr>\n",
       "    <tr>\n",
       "      <th>2020-08-14</th>\n",
       "      <td>5389444</td>\n",
       "    </tr>\n",
       "    <tr>\n",
       "      <th>2020-08-15</th>\n",
       "      <td>998215</td>\n",
       "    </tr>\n",
       "    <tr>\n",
       "      <th>2020-08-16</th>\n",
       "      <td>566483</td>\n",
       "    </tr>\n",
       "    <tr>\n",
       "      <th>2020-08-17</th>\n",
       "      <td>6874013</td>\n",
       "    </tr>\n",
       "    <tr>\n",
       "      <th>2020-08-18</th>\n",
       "      <td>6494958</td>\n",
       "    </tr>\n",
       "    <tr>\n",
       "      <th>2020-08-19</th>\n",
       "      <td>12659506</td>\n",
       "    </tr>\n",
       "    <tr>\n",
       "      <th>2020-08-20</th>\n",
       "      <td>8359006</td>\n",
       "    </tr>\n",
       "    <tr>\n",
       "      <th>2020-08-21</th>\n",
       "      <td>10867099</td>\n",
       "    </tr>\n",
       "    <tr>\n",
       "      <th>2020-08-22</th>\n",
       "      <td>2445106</td>\n",
       "    </tr>\n",
       "    <tr>\n",
       "      <th>2020-08-23</th>\n",
       "      <td>758100</td>\n",
       "    </tr>\n",
       "    <tr>\n",
       "      <th>2020-08-24</th>\n",
       "      <td>9715501</td>\n",
       "    </tr>\n",
       "    <tr>\n",
       "      <th>2020-08-25</th>\n",
       "      <td>9278127</td>\n",
       "    </tr>\n",
       "    <tr>\n",
       "      <th>2020-08-26</th>\n",
       "      <td>4434487</td>\n",
       "    </tr>\n",
       "    <tr>\n",
       "      <th>2020-08-27</th>\n",
       "      <td>6316768</td>\n",
       "    </tr>\n",
       "    <tr>\n",
       "      <th>2020-08-28</th>\n",
       "      <td>11103728</td>\n",
       "    </tr>\n",
       "    <tr>\n",
       "      <th>2020-08-29</th>\n",
       "      <td>8056170</td>\n",
       "    </tr>\n",
       "  </tbody>\n",
       "</table>\n",
       "</div>"
      ],
      "text/plain": [
       "               Sales\n",
       "Month               \n",
       "2020-07-01   6878377\n",
       "2020-07-02   5098339\n",
       "2020-07-03   3285778\n",
       "2020-07-04   3534637\n",
       "2020-07-05    532965\n",
       "2020-07-06   3818449\n",
       "2020-07-07   3875165\n",
       "2020-07-08   9823834\n",
       "2020-07-09   7232730\n",
       "2020-07-10   7131037\n",
       "2020-07-11   4424160\n",
       "2020-07-12    295710\n",
       "2020-07-13   5171912\n",
       "2020-07-14   6665205\n",
       "2020-07-15   5472357\n",
       "2020-07-16   5201629\n",
       "2020-07-17   5201559\n",
       "2020-07-18   4815244\n",
       "2020-07-19    537799\n",
       "2020-07-20   5608510\n",
       "2020-07-21  12104523\n",
       "2020-07-22   7223126\n",
       "2020-07-23   8987891\n",
       "2020-07-24  10154905\n",
       "2020-07-25   4626484\n",
       "2020-07-26   1354310\n",
       "2020-07-27  10996499\n",
       "2020-07-28   7799008\n",
       "2020-07-29   7359171\n",
       "2020-07-30   5123522\n",
       "2020-07-31   9997788\n",
       "2020-08-01   6639610\n",
       "2020-08-02   1112892\n",
       "2020-08-03   5763924\n",
       "2020-08-04   4432081\n",
       "2020-08-05   2479115\n",
       "2020-08-06  10099277\n",
       "2020-08-07   4494763\n",
       "2020-08-08   3885612\n",
       "2020-08-09    457938\n",
       "2020-08-10   5294322\n",
       "2020-08-11   3621329\n",
       "2020-08-12   6895408\n",
       "2020-08-13   8389562\n",
       "2020-08-14   5389444\n",
       "2020-08-15    998215\n",
       "2020-08-16    566483\n",
       "2020-08-17   6874013\n",
       "2020-08-18   6494958\n",
       "2020-08-19  12659506\n",
       "2020-08-20   8359006\n",
       "2020-08-21  10867099\n",
       "2020-08-22   2445106\n",
       "2020-08-23    758100\n",
       "2020-08-24   9715501\n",
       "2020-08-25   9278127\n",
       "2020-08-26   4434487\n",
       "2020-08-27   6316768\n",
       "2020-08-28  11103728\n",
       "2020-08-29   8056170"
      ]
     },
     "execution_count": 23,
     "metadata": {},
     "output_type": "execute_result"
    }
   ],
   "source": [
    "sales_mean[:60]"
   ]
  },
  {
   "cell_type": "code",
   "execution_count": 24,
   "metadata": {},
   "outputs": [],
   "source": [
    "from statsmodels.graphics.tsaplots import plot_acf"
   ]
  },
  {
   "cell_type": "code",
   "execution_count": 25,
   "metadata": {},
   "outputs": [
    {
     "data": {
      "image/png": "[encoded data removed]",
      "text/plain": [
       "<Figure size 432x288 with 1 Axes>"
      ]
     },
     "execution_count": 25,
     "metadata": {},
     "output_type": "execute_result"
    },
    {
     "data": {
      "image/png": "[encoded data removed]",
      "text/plain": [
       "<Figure size 432x288 with 1 Axes>"
      ]
     },
     "metadata": {
      "needs_background": "light"
     },
     "output_type": "display_data"
    }
   ],
   "source": [
    "plot_acf(sales_mean['Sales'])"
   ]
  },
  {
   "cell_type": "code",
   "execution_count": 26,
   "metadata": {},
   "outputs": [
    {
     "data": {
      "text/html": [
       "<div>\n",
       "<style scoped>\n",
       "    .dataframe tbody tr th:only-of-type {\n",
       "        vertical-align: middle;\n",
       "    }\n",
       "\n",
       "    .dataframe tbody tr th {\n",
       "        vertical-align: top;\n",
       "    }\n",
       "\n",
       "    .dataframe thead th {\n",
       "        text-align: right;\n",
       "    }\n",
       "</style>\n",
       "<table border=\"1\" class=\"dataframe\">\n",
       "  <thead>\n",
       "    <tr style=\"text-align: right;\">\n",
       "      <th></th>\n",
       "      <th>Name</th>\n",
       "      <th>Sale Org</th>\n",
       "      <th>plant</th>\n",
       "      <th>Territory</th>\n",
       "      <th>indent_no</th>\n",
       "      <th>So_No</th>\n",
       "      <th>SO_DATE</th>\n",
       "      <th>Sale Order Qty</th>\n",
       "      <th>Sale Order Amount</th>\n",
       "      <th>BILL_DATE</th>\n",
       "      <th>BILL_NO</th>\n",
       "      <th>Bill_Qty</th>\n",
       "      <th>Bill_Amt</th>\n",
       "      <th>Delivery_no</th>\n",
       "      <th>Status</th>\n",
       "      <th>Approval_date</th>\n",
       "      <th>Sale Order Pending Qty</th>\n",
       "      <th>Sale Order Pending Amount</th>\n",
       "      <th>Sale Order Cancel Qty</th>\n",
       "      <th>Sale Order Cancel Amount</th>\n",
       "    </tr>\n",
       "  </thead>\n",
       "  <tbody>\n",
       "    <tr>\n",
       "      <th>0</th>\n",
       "      <td>Garg Medical Agency</td>\n",
       "      <td>1100</td>\n",
       "      <td>1001</td>\n",
       "      <td>Punjab</td>\n",
       "      <td>IND2021000003</td>\n",
       "      <td>3000002307</td>\n",
       "      <td>2020-07-01</td>\n",
       "      <td>NaN</td>\n",
       "      <td>NaN</td>\n",
       "      <td>2020-07-13</td>\n",
       "      <td>1.001102e+09</td>\n",
       "      <td>538</td>\n",
       "      <td>28158.0</td>\n",
       "      <td>8.000005e+09</td>\n",
       "      <td>PARTIAL SO CANCELLED</td>\n",
       "      <td>2020-07-09</td>\n",
       "      <td>NaN</td>\n",
       "      <td>NaN</td>\n",
       "      <td>NaN</td>\n",
       "      <td>NaN</td>\n",
       "    </tr>\n",
       "    <tr>\n",
       "      <th>1</th>\n",
       "      <td>Garg Medical Agency</td>\n",
       "      <td>1100</td>\n",
       "      <td>1001</td>\n",
       "      <td>Punjab</td>\n",
       "      <td>IND2021000003</td>\n",
       "      <td>3000002307</td>\n",
       "      <td>2020-07-01</td>\n",
       "      <td>1317.0</td>\n",
       "      <td>210906.0</td>\n",
       "      <td>2020-07-11</td>\n",
       "      <td>1.001102e+09</td>\n",
       "      <td>755</td>\n",
       "      <td>172572.0</td>\n",
       "      <td>8.000005e+09</td>\n",
       "      <td>PARTIAL SO CANCELLED</td>\n",
       "      <td>2020-07-09</td>\n",
       "      <td>NaN</td>\n",
       "      <td>NaN</td>\n",
       "      <td>24.0</td>\n",
       "      <td>10176.0</td>\n",
       "    </tr>\n",
       "    <tr>\n",
       "      <th>2</th>\n",
       "      <td>Partap Surgical</td>\n",
       "      <td>1100</td>\n",
       "      <td>1001</td>\n",
       "      <td>Punjab</td>\n",
       "      <td>IND2021000002</td>\n",
       "      <td>3000002308</td>\n",
       "      <td>2020-07-01</td>\n",
       "      <td>NaN</td>\n",
       "      <td>NaN</td>\n",
       "      <td>2020-07-11</td>\n",
       "      <td>1.001102e+09</td>\n",
       "      <td>106</td>\n",
       "      <td>17368.0</td>\n",
       "      <td>8.000005e+09</td>\n",
       "      <td>PARTIAL SO CANCELLED</td>\n",
       "      <td>2020-07-01</td>\n",
       "      <td>NaN</td>\n",
       "      <td>NaN</td>\n",
       "      <td>NaN</td>\n",
       "      <td>NaN</td>\n",
       "    </tr>\n",
       "    <tr>\n",
       "      <th>3</th>\n",
       "      <td>Partap Surgical</td>\n",
       "      <td>1100</td>\n",
       "      <td>1001</td>\n",
       "      <td>Punjab</td>\n",
       "      <td>IND2021000002</td>\n",
       "      <td>3000002308</td>\n",
       "      <td>2020-07-01</td>\n",
       "      <td>269.0</td>\n",
       "      <td>48091.0</td>\n",
       "      <td>2020-07-04</td>\n",
       "      <td>1.001102e+09</td>\n",
       "      <td>106</td>\n",
       "      <td>24708.0</td>\n",
       "      <td>8.000004e+09</td>\n",
       "      <td>PARTIAL SO CANCELLED</td>\n",
       "      <td>2020-07-01</td>\n",
       "      <td>NaN</td>\n",
       "      <td>NaN</td>\n",
       "      <td>57.0</td>\n",
       "      <td>6015.0</td>\n",
       "    </tr>\n",
       "    <tr>\n",
       "      <th>4</th>\n",
       "      <td>R.K. Medical Hall</td>\n",
       "      <td>1100</td>\n",
       "      <td>1001</td>\n",
       "      <td>Punjab</td>\n",
       "      <td>IND2021000005</td>\n",
       "      <td>3000002309</td>\n",
       "      <td>2020-07-01</td>\n",
       "      <td>201.0</td>\n",
       "      <td>47100.0</td>\n",
       "      <td>2020-07-09</td>\n",
       "      <td>1.001102e+09</td>\n",
       "      <td>201</td>\n",
       "      <td>47100.0</td>\n",
       "      <td>8.000005e+09</td>\n",
       "      <td>INVOICED</td>\n",
       "      <td>2020-07-07</td>\n",
       "      <td>0.0</td>\n",
       "      <td>0.0</td>\n",
       "      <td>NaN</td>\n",
       "      <td>NaN</td>\n",
       "    </tr>\n",
       "  </tbody>\n",
       "</table>\n",
       "</div>"
      ],
      "text/plain": [
       "                  Name  Sale Org  plant Territory      indent_no       So_No  \\\n",
       "0  Garg Medical Agency      1100   1001    Punjab  IND2021000003  3000002307   \n",
       "1  Garg Medical Agency      1100   1001    Punjab  IND2021000003  3000002307   \n",
       "2      Partap Surgical      1100   1001    Punjab  IND2021000002  3000002308   \n",
       "3      Partap Surgical      1100   1001    Punjab  IND2021000002  3000002308   \n",
       "4    R.K. Medical Hall      1100   1001    Punjab  IND2021000005  3000002309   \n",
       "\n",
       "     SO_DATE  Sale Order Qty  Sale Order Amount  BILL_DATE       BILL_NO  \\\n",
       "0 2020-07-01             NaN                NaN 2020-07-13  1.001102e+09   \n",
       "1 2020-07-01          1317.0           210906.0 2020-07-11  1.001102e+09   \n",
       "2 2020-07-01             NaN                NaN 2020-07-11  1.001102e+09   \n",
       "3 2020-07-01           269.0            48091.0 2020-07-04  1.001102e+09   \n",
       "4 2020-07-01           201.0            47100.0 2020-07-09  1.001102e+09   \n",
       "\n",
       "   Bill_Qty  Bill_Amt   Delivery_no                Status Approval_date  \\\n",
       "0       538   28158.0  8.000005e+09  PARTIAL SO CANCELLED    2020-07-09   \n",
       "1       755  172572.0  8.000005e+09  PARTIAL SO CANCELLED    2020-07-09   \n",
       "2       106   17368.0  8.000005e+09  PARTIAL SO CANCELLED    2020-07-01   \n",
       "3       106   24708.0  8.000004e+09  PARTIAL SO CANCELLED    2020-07-01   \n",
       "4       201   47100.0  8.000005e+09              INVOICED    2020-07-07   \n",
       "\n",
       "   Sale Order Pending Qty  Sale Order Pending Amount  Sale Order Cancel Qty  \\\n",
       "0                     NaN                        NaN                    NaN   \n",
       "1                     NaN                        NaN                   24.0   \n",
       "2                     NaN                        NaN                    NaN   \n",
       "3                     NaN                        NaN                   57.0   \n",
       "4                     0.0                        0.0                    NaN   \n",
       "\n",
       "   Sale Order Cancel Amount  \n",
       "0                       NaN  \n",
       "1                   10176.0  \n",
       "2                       NaN  \n",
       "3                    6015.0  \n",
       "4                       NaN  "
      ]
     },
     "execution_count": 26,
     "metadata": {},
     "output_type": "execute_result"
    }
   ],
   "source": [
    "df.head()"
   ]
  },
  {
   "cell_type": "code",
   "execution_count": 27,
   "metadata": {},
   "outputs": [],
   "source": [
    "sales_diff = sales_mean.diff(periods=1)"
   ]
  },
  {
   "cell_type": "code",
   "execution_count": 28,
   "metadata": {},
   "outputs": [],
   "source": [
    "sales_diff = sales_diff[1:]"
   ]
  },
  {
   "cell_type": "code",
   "execution_count": 29,
   "metadata": {},
   "outputs": [
    {
     "data": {
      "image/png": "[encoded data removed]",
      "text/plain": [
       "<Figure size 432x288 with 1 Axes>"
      ]
     },
     "execution_count": 29,
     "metadata": {},
     "output_type": "execute_result"
    },
    {
     "data": {
      "image/png": "[encoded data removed]",
      "text/plain": [
       "<Figure size 432x288 with 1 Axes>"
      ]
     },
     "metadata": {
      "needs_background": "light"
     },
     "output_type": "display_data"
    }
   ],
   "source": [
    "plot_acf(sales_diff)"
   ]
  },
  {
   "cell_type": "code",
   "execution_count": 30,
   "metadata": {},
   "outputs": [
    {
     "data": {
      "text/plain": [
       "<matplotlib.axes._subplots.AxesSubplot at 0x1b59ac6e808>"
      ]
     },
     "execution_count": 30,
     "metadata": {},
     "output_type": "execute_result"
    },
    {
     "data": {
      "image/png": "[encoded data removed]",
      "text/plain": [
       "<Figure size 432x288 with 1 Axes>"
      ]
     },
     "metadata": {
      "needs_background": "light"
     },
     "output_type": "display_data"
    }
   ],
   "source": [
    "sales_diff.plot()"
   ]
  },
  {
   "cell_type": "code",
   "execution_count": 31,
   "metadata": {},
   "outputs": [],
   "source": [
    "X = sales_mean.values\n"
   ]
  },
  {
   "cell_type": "code",
   "execution_count": 32,
   "metadata": {},
   "outputs": [
    {
     "data": {
      "text/plain": [
       "(71, 1)"
      ]
     },
     "execution_count": 32,
     "metadata": {},
     "output_type": "execute_result"
    }
   ],
   "source": [
    "X.shape"
   ]
  },
  {
   "cell_type": "code",
   "execution_count": 33,
   "metadata": {},
   "outputs": [],
   "source": [
    "train = X[:55]\n",
    "test = X[55:]"
   ]
  },
  {
   "cell_type": "code",
   "execution_count": 34,
   "metadata": {},
   "outputs": [
    {
     "data": {
      "text/plain": [
       "55"
      ]
     },
     "execution_count": 34,
     "metadata": {},
     "output_type": "execute_result"
    }
   ],
   "source": [
    "train.size"
   ]
  },
  {
   "cell_type": "code",
   "execution_count": 35,
   "metadata": {},
   "outputs": [
    {
     "data": {
      "text/plain": [
       "16"
      ]
     },
     "execution_count": 35,
     "metadata": {},
     "output_type": "execute_result"
    }
   ],
   "source": [
    "test.size"
   ]
  },
  {
   "cell_type": "code",
   "execution_count": 36,
   "metadata": {},
   "outputs": [],
   "source": [
    "from statsmodels.tsa.arima_model import ARIMA"
   ]
  },
  {
   "cell_type": "code",
   "execution_count": 37,
   "metadata": {},
   "outputs": [
    {
     "name": "stdout",
     "output_type": "stream",
     "text": [
      "1773.1020360909415\n"
     ]
    }
   ],
   "source": [
    "model_arima = ARIMA(train,order=(9,1,1))\n",
    "model_arima_fit = model_arima.fit()\n",
    "print(model_arima_fit.aic)"
   ]
  },
  {
   "cell_type": "code",
   "execution_count": 38,
   "metadata": {},
   "outputs": [],
   "source": [
    "predictions = model_arima_fit.forecast(steps=15)[0]"
   ]
  },
  {
   "cell_type": "code",
   "execution_count": 39,
   "metadata": {},
   "outputs": [
    {
     "data": {
      "text/plain": [
       "[<matplotlib.lines.Line2D at 0x1b59ae33848>]"
      ]
     },
     "execution_count": 39,
     "metadata": {},
     "output_type": "execute_result"
    },
    {
     "data": {
      "image/png": "[encoded data removed]",
      "text/plain": [
       "<Figure size 432x288 with 1 Axes>"
      ]
     },
     "metadata": {
      "needs_background": "light"
     },
     "output_type": "display_data"
    }
   ],
   "source": [
    "plt.plot(test)\n",
    "plt.plot(predictions,'r')"
   ]
  },
  {
   "cell_type": "code",
   "execution_count": 40,
   "metadata": {},
   "outputs": [],
   "source": [
    "import itertools\n",
    "p=d=q=range(0,5)\n",
    "pdq=itertools.product(p,d,q)"
   ]
  },
  {
   "cell_type": "code",
   "execution_count": 41,
   "metadata": {},
   "outputs": [
    {
     "name": "stdout",
     "output_type": "stream",
     "text": [
      "(0, 0, 0) 1807.1767208532378\n",
      "(0, 0, 1) 1807.017361536116\n",
      "(0, 0, 2) 1808.6679811000015\n",
      "(0, 0, 3) 1809.7381734908777\n",
      "(0, 0, 4) 1811.5715127559845\n",
      "(0, 1, 0) 1801.437170409345\n",
      "(0, 1, 1) 1780.9215616785837\n",
      "(0, 1, 2) 1781.3891859561159\n",
      "(0, 1, 3) 1783.29659859102\n",
      "(0, 1, 4) 1784.6453778363011\n",
      "(0, 2, 0) 1817.8049204272018\n",
      "(0, 2, 1) 1782.9233733831868\n",
      "(0, 2, 2) 1760.3220250606594\n",
      "(0, 2, 3) 1774.2302966306354\n",
      "(0, 2, 4) 1775.1915597295645\n",
      "(1, 0, 0) 1807.472853546146\n",
      "(1, 0, 1) 1808.853459614382\n",
      "(1, 0, 2) 1807.6705609033886\n",
      "(1, 0, 3) 1809.6445119551813\n",
      "(1, 0, 4) 1809.5756428590896\n",
      "(1, 1, 0) 1797.9434637443987\n",
      "(1, 1, 2) 1782.3592149614215\n",
      "(1, 2, 0) 1801.0101060447485\n",
      "(1, 2, 1) 1772.2870952211942\n",
      "(1, 2, 2) 1773.4344621682303\n",
      "(1, 2, 3) 1775.4256594207627\n",
      "(1, 2, 4) 1778.7529306904971\n",
      "(2, 0, 0) 1808.3158230247684\n",
      "(2, 0, 1) 1807.7991853993144\n",
      "(2, 0, 2) 1799.969358175826\n",
      "(2, 0, 3) 1808.8796627771073\n",
      "(2, 0, 4) 1809.3879091192518\n",
      "(2, 1, 0) 1795.6194688989285\n",
      "(2, 1, 1) 1781.8830529848533\n",
      "(2, 1, 2) 1785.1607066086422\n",
      "(2, 1, 3) 1784.7857068923108\n",
      "(2, 1, 4) 1783.1188840040063\n",
      "(2, 2, 0) 1792.3920511410822\n",
      "(2, 2, 1) 1782.4551468536679\n",
      "(2, 2, 2) 1775.1239005284726\n",
      "(2, 2, 3) 1781.0962478720587\n",
      "(2, 2, 4) 1783.04699422557\n",
      "(3, 0, 0) 1809.7180237045538\n",
      "(3, 0, 1) 1809.6230082452576\n",
      "(3, 0, 2) 1811.1742655115595\n",
      "(3, 0, 3) 1813.105237470164\n",
      "(3, 0, 4) 1808.4723198783174\n",
      "(3, 1, 0) 1795.7742813163109\n",
      "(3, 1, 1) 1783.3120788778192\n",
      "(3, 1, 2) 1783.6625247133616\n",
      "(3, 1, 3) 1784.7747092691193\n",
      "(3, 1, 4) 1785.1146024726954\n",
      "(3, 2, 0) 1789.4489802436096\n",
      "(3, 2, 1) 1784.1146243622263\n",
      "(3, 2, 2) 1776.7843356681476\n",
      "(3, 2, 3) 1783.0671491245441\n",
      "(3, 2, 4) 1775.9822839260746\n",
      "(4, 0, 0) 1810.1649836189695\n",
      "(4, 0, 1) 1811.9405507004353\n",
      "(4, 0, 2) 1805.4371437208313\n",
      "(4, 0, 3) 1805.203854821153\n",
      "(4, 0, 4) 1805.7059082360408\n",
      "(4, 1, 0) 1795.1710102881302\n",
      "(4, 1, 1) 1784.6251091070308\n",
      "(4, 1, 2) 1801.1022809454998\n",
      "(4, 1, 3) 1802.467585909334\n",
      "(4, 1, 4) 1800.1927800834933\n",
      "(4, 2, 0) 1790.741788918337\n",
      "(4, 2, 1) 1785.775563380761\n",
      "(4, 2, 2) 1776.3821036569238\n",
      "(4, 2, 3) 1800.8266806715144\n",
      "(4, 2, 4) 1771.2430251981689\n"
     ]
    }
   ],
   "source": [
    "import warnings\n",
    "warnings.filterwarnings('ignore')\n",
    "for param in pdq:\n",
    "    try:\n",
    "        model_arima = ARIMA(train,order=(param))\n",
    "        model_arima_fit = model_arima.fit()\n",
    "        print(param,model_arima_fit.aic)\n",
    "    except:\n",
    "        continue"
   ]
  },
  {
   "cell_type": "code",
   "execution_count": 42,
   "metadata": {},
   "outputs": [],
   "source": [
    "import statsmodels.api as sm"
   ]
  },
  {
   "cell_type": "code",
   "execution_count": 43,
   "metadata": {},
   "outputs": [],
   "source": [
    "model = sm.tsa.statespace.SARIMAX(sales_mean['Sales'],order=(9,1,1),seasonal_order=(9,1,1,12))\n",
    "result = model.fit()"
   ]
  },
  {
   "cell_type": "code",
   "execution_count": 44,
   "metadata": {},
   "outputs": [],
   "source": [
    "sales_mean['forecast'] = result.predict(start=55,end=70,dynamic=True)"
   ]
  },
  {
   "cell_type": "code",
   "execution_count": 45,
   "metadata": {},
   "outputs": [
    {
     "data": {
      "text/plain": [
       "<matplotlib.axes._subplots.AxesSubplot at 0x1b59b495e88>"
      ]
     },
     "execution_count": 45,
     "metadata": {},
     "output_type": "execute_result"
    },
    {
     "data": {
      "image/png": "[encoded data removed]",
      "text/plain": [
       "<Figure size 864x576 with 1 Axes>"
      ]
     },
     "metadata": {
      "needs_background": "light"
     },
     "output_type": "display_data"
    }
   ],
   "source": [
    "sales_mean[['Sales','forecast']].plot(figsize=(12,8))"
   ]
  },
  {
   "cell_type": "code",
   "execution_count": 46,
   "metadata": {},
   "outputs": [
    {
     "data": {
      "text/plain": [
       "Month\n",
       "2020-09-05    5.338272e+06\n",
       "2020-09-06    6.568848e+06\n",
       "2020-09-07    8.764567e+06\n",
       "2020-09-08    8.834502e+06\n",
       "2020-09-09    4.109356e+06\n",
       "Freq: D, Name: forecast, dtype: float64"
      ]
     },
     "execution_count": 46,
     "metadata": {},
     "output_type": "execute_result"
    }
   ],
   "source": [
    "sales_mean['forecast'].tail()"
   ]
  },
  {
   "cell_type": "code",
   "execution_count": 47,
   "metadata": {},
   "outputs": [],
   "source": [
    "from pandas.tseries.offsets import DateOffset"
   ]
  },
  {
   "cell_type": "code",
   "execution_count": 48,
   "metadata": {},
   "outputs": [
    {
     "data": {
      "text/html": [
       "<div>\n",
       "<style scoped>\n",
       "    .dataframe tbody tr th:only-of-type {\n",
       "        vertical-align: middle;\n",
       "    }\n",
       "\n",
       "    .dataframe tbody tr th {\n",
       "        vertical-align: top;\n",
       "    }\n",
       "\n",
       "    .dataframe thead th {\n",
       "        text-align: right;\n",
       "    }\n",
       "</style>\n",
       "<table border=\"1\" class=\"dataframe\">\n",
       "  <thead>\n",
       "    <tr style=\"text-align: right;\">\n",
       "      <th></th>\n",
       "      <th>Name</th>\n",
       "      <th>Sale Org</th>\n",
       "      <th>plant</th>\n",
       "      <th>Territory</th>\n",
       "      <th>indent_no</th>\n",
       "      <th>So_No</th>\n",
       "      <th>SO_DATE</th>\n",
       "      <th>Sale Order Qty</th>\n",
       "      <th>Sale Order Amount</th>\n",
       "      <th>BILL_DATE</th>\n",
       "      <th>BILL_NO</th>\n",
       "      <th>Bill_Qty</th>\n",
       "      <th>Bill_Amt</th>\n",
       "      <th>Delivery_no</th>\n",
       "      <th>Status</th>\n",
       "      <th>Approval_date</th>\n",
       "      <th>Sale Order Pending Qty</th>\n",
       "      <th>Sale Order Pending Amount</th>\n",
       "      <th>Sale Order Cancel Qty</th>\n",
       "      <th>Sale Order Cancel Amount</th>\n",
       "    </tr>\n",
       "  </thead>\n",
       "  <tbody>\n",
       "    <tr>\n",
       "      <th>7234</th>\n",
       "      <td>Medi Solution</td>\n",
       "      <td>1100</td>\n",
       "      <td>9201</td>\n",
       "      <td>West Bengal</td>\n",
       "      <td>Against complaint</td>\n",
       "      <td>3900000774</td>\n",
       "      <td>2020-09-05</td>\n",
       "      <td>1.0</td>\n",
       "      <td>81.0</td>\n",
       "      <td>NaT</td>\n",
       "      <td>NaN</td>\n",
       "      <td>0</td>\n",
       "      <td>0.0</td>\n",
       "      <td>8.000011e+09</td>\n",
       "      <td>SALE ORDER APPROVED</td>\n",
       "      <td>2020-09-05</td>\n",
       "      <td>1.0</td>\n",
       "      <td>81.0</td>\n",
       "      <td>NaN</td>\n",
       "      <td>NaN</td>\n",
       "    </tr>\n",
       "    <tr>\n",
       "      <th>7235</th>\n",
       "      <td>Arvinderjit Singh</td>\n",
       "      <td>1100</td>\n",
       "      <td>1001</td>\n",
       "      <td>HO Territory</td>\n",
       "      <td>Mr. A J Singh.</td>\n",
       "      <td>3900000775</td>\n",
       "      <td>2020-09-07</td>\n",
       "      <td>14.0</td>\n",
       "      <td>662.0</td>\n",
       "      <td>2020-09-07</td>\n",
       "      <td>1.001251e+09</td>\n",
       "      <td>14</td>\n",
       "      <td>662.0</td>\n",
       "      <td>8.000011e+09</td>\n",
       "      <td>INVOICED</td>\n",
       "      <td>2020-09-07</td>\n",
       "      <td>0.0</td>\n",
       "      <td>0.0</td>\n",
       "      <td>NaN</td>\n",
       "      <td>NaN</td>\n",
       "    </tr>\n",
       "    <tr>\n",
       "      <th>7236</th>\n",
       "      <td>Abhaynoor Singh</td>\n",
       "      <td>1100</td>\n",
       "      <td>1001</td>\n",
       "      <td>HO Territory</td>\n",
       "      <td>Mr. Abhaynoor Singh</td>\n",
       "      <td>3900000776</td>\n",
       "      <td>2020-09-07</td>\n",
       "      <td>3.0</td>\n",
       "      <td>1157.0</td>\n",
       "      <td>2020-09-07</td>\n",
       "      <td>1.001251e+09</td>\n",
       "      <td>2</td>\n",
       "      <td>501.0</td>\n",
       "      <td>8.000011e+09</td>\n",
       "      <td>PARTIAL INVOICED</td>\n",
       "      <td>2020-09-07</td>\n",
       "      <td>1.0</td>\n",
       "      <td>656.0</td>\n",
       "      <td>NaN</td>\n",
       "      <td>NaN</td>\n",
       "    </tr>\n",
       "    <tr>\n",
       "      <th>7237</th>\n",
       "      <td>Pushvinderjit Singh</td>\n",
       "      <td>1100</td>\n",
       "      <td>1001</td>\n",
       "      <td>HO Territory</td>\n",
       "      <td>mask</td>\n",
       "      <td>3900000777</td>\n",
       "      <td>2020-09-07</td>\n",
       "      <td>2.0</td>\n",
       "      <td>106.0</td>\n",
       "      <td>2020-09-07</td>\n",
       "      <td>1.001251e+09</td>\n",
       "      <td>2</td>\n",
       "      <td>106.0</td>\n",
       "      <td>8.000011e+09</td>\n",
       "      <td>INVOICED</td>\n",
       "      <td>2020-09-07</td>\n",
       "      <td>0.0</td>\n",
       "      <td>0.0</td>\n",
       "      <td>NaN</td>\n",
       "      <td>NaN</td>\n",
       "    </tr>\n",
       "    <tr>\n",
       "      <th>7238</th>\n",
       "      <td>Arvinderjit Singh</td>\n",
       "      <td>1100</td>\n",
       "      <td>1001</td>\n",
       "      <td>HO Territory</td>\n",
       "      <td>Mr. Maninder Sra</td>\n",
       "      <td>3900000778</td>\n",
       "      <td>2020-09-07</td>\n",
       "      <td>1.0</td>\n",
       "      <td>271.0</td>\n",
       "      <td>2020-09-07</td>\n",
       "      <td>1.001251e+09</td>\n",
       "      <td>1</td>\n",
       "      <td>271.0</td>\n",
       "      <td>8.000011e+09</td>\n",
       "      <td>INVOICED</td>\n",
       "      <td>2020-09-07</td>\n",
       "      <td>0.0</td>\n",
       "      <td>0.0</td>\n",
       "      <td>NaN</td>\n",
       "      <td>NaN</td>\n",
       "    </tr>\n",
       "  </tbody>\n",
       "</table>\n",
       "</div>"
      ],
      "text/plain": [
       "                     Name  Sale Org  plant     Territory            indent_no  \\\n",
       "7234        Medi Solution      1100   9201   West Bengal    Against complaint   \n",
       "7235    Arvinderjit Singh      1100   1001  HO Territory       Mr. A J Singh.   \n",
       "7236      Abhaynoor Singh      1100   1001  HO Territory  Mr. Abhaynoor Singh   \n",
       "7237  Pushvinderjit Singh      1100   1001  HO Territory                 mask   \n",
       "7238    Arvinderjit Singh      1100   1001  HO Territory     Mr. Maninder Sra   \n",
       "\n",
       "           So_No    SO_DATE  Sale Order Qty  Sale Order Amount  BILL_DATE  \\\n",
       "7234  3900000774 2020-09-05             1.0               81.0        NaT   \n",
       "7235  3900000775 2020-09-07            14.0              662.0 2020-09-07   \n",
       "7236  3900000776 2020-09-07             3.0             1157.0 2020-09-07   \n",
       "7237  3900000777 2020-09-07             2.0              106.0 2020-09-07   \n",
       "7238  3900000778 2020-09-07             1.0              271.0 2020-09-07   \n",
       "\n",
       "           BILL_NO  Bill_Qty  Bill_Amt   Delivery_no               Status  \\\n",
       "7234           NaN         0       0.0  8.000011e+09  SALE ORDER APPROVED   \n",
       "7235  1.001251e+09        14     662.0  8.000011e+09             INVOICED   \n",
       "7236  1.001251e+09         2     501.0  8.000011e+09     PARTIAL INVOICED   \n",
       "7237  1.001251e+09         2     106.0  8.000011e+09             INVOICED   \n",
       "7238  1.001251e+09         1     271.0  8.000011e+09             INVOICED   \n",
       "\n",
       "     Approval_date  Sale Order Pending Qty  Sale Order Pending Amount  \\\n",
       "7234    2020-09-05                     1.0                       81.0   \n",
       "7235    2020-09-07                     0.0                        0.0   \n",
       "7236    2020-09-07                     1.0                      656.0   \n",
       "7237    2020-09-07                     0.0                        0.0   \n",
       "7238    2020-09-07                     0.0                        0.0   \n",
       "\n",
       "      Sale Order Cancel Qty  Sale Order Cancel Amount  \n",
       "7234                    NaN                       NaN  \n",
       "7235                    NaN                       NaN  \n",
       "7236                    NaN                       NaN  \n",
       "7237                    NaN                       NaN  \n",
       "7238                    NaN                       NaN  "
      ]
     },
     "execution_count": 48,
     "metadata": {},
     "output_type": "execute_result"
    }
   ],
   "source": [
    "df.tail()"
   ]
  },
  {
   "cell_type": "code",
   "execution_count": 49,
   "metadata": {},
   "outputs": [],
   "source": [
    "future_dates = [sales_mean.index[-1] + DateOffset(days=x) for x in range(0,60)]"
   ]
  },
  {
   "cell_type": "code",
   "execution_count": 50,
   "metadata": {},
   "outputs": [],
   "source": [
    "future_dates_df = pd.DataFrame(index=future_dates[1:],columns=sales_mean.columns)"
   ]
  },
  {
   "cell_type": "code",
   "execution_count": 51,
   "metadata": {},
   "outputs": [],
   "source": [
    "future_df = pd.concat([sales_mean,future_dates_df])"
   ]
  },
  {
   "cell_type": "code",
   "execution_count": 52,
   "metadata": {},
   "outputs": [],
   "source": [
    "future_df['forecast'] = result.predict(start=69,end=130,dynamic=True)"
   ]
  },
  {
   "cell_type": "code",
   "execution_count": 53,
   "metadata": {},
   "outputs": [],
   "source": [
    "a = result.predict(start=69,end=130,dynamic=True)"
   ]
  },
  {
   "cell_type": "code",
   "execution_count": null,
   "metadata": {},
   "outputs": [],
   "source": [
    "\n"
   ]
  },
  {
   "cell_type": "code",
   "execution_count": 54,
   "metadata": {},
   "outputs": [
    {
     "data": {
      "text/plain": [
       "2020-09-08    5.845283e+06\n",
       "2020-09-09   -1.353934e+06\n",
       "2020-09-10    1.364957e+07\n",
       "2020-09-11    9.378904e+06\n",
       "2020-09-12    1.531759e+07\n",
       "                  ...     \n",
       "2020-11-04    8.695478e+06\n",
       "2020-11-05    1.498223e+07\n",
       "2020-11-06    8.554104e+06\n",
       "2020-11-07    4.349221e+06\n",
       "2020-11-08    8.001351e+06\n",
       "Freq: D, Length: 62, dtype: float64"
      ]
     },
     "execution_count": 54,
     "metadata": {},
     "output_type": "execute_result"
    }
   ],
   "source": [
    "a"
   ]
  },
  {
   "cell_type": "code",
   "execution_count": 55,
   "metadata": {},
   "outputs": [
    {
     "data": {
      "text/plain": [
       "<matplotlib.axes._subplots.AxesSubplot at 0x1b59add31c8>"
      ]
     },
     "execution_count": 55,
     "metadata": {},
     "output_type": "execute_result"
    },
    {
     "data": {
      "image/png": "[encoded data removed]",
      "text/plain": [
       "<Figure size 864x576 with 1 Axes>"
      ]
     },
     "metadata": {
      "needs_background": "light"
     },
     "output_type": "display_data"
    }
   ],
   "source": [
    "future_df[['Sales','forecast']].plot(figsize=(12,8))"
   ]
  },
  {
   "cell_type": "code",
   "execution_count": 56,
   "metadata": {},
   "outputs": [
    {
     "data": {
      "text/plain": [
       "(130, 2)"
      ]
     },
     "execution_count": 56,
     "metadata": {},
     "output_type": "execute_result"
    }
   ],
   "source": [
    "future_df.shape"
   ]
  },
  {
   "cell_type": "code",
   "execution_count": 57,
   "metadata": {},
   "outputs": [
    {
     "data": {
      "text/html": [
       "<div>\n",
       "<style scoped>\n",
       "    .dataframe tbody tr th:only-of-type {\n",
       "        vertical-align: middle;\n",
       "    }\n",
       "\n",
       "    .dataframe tbody tr th {\n",
       "        vertical-align: top;\n",
       "    }\n",
       "\n",
       "    .dataframe thead th {\n",
       "        text-align: right;\n",
       "    }\n",
       "</style>\n",
       "<table border=\"1\" class=\"dataframe\">\n",
       "  <thead>\n",
       "    <tr style=\"text-align: right;\">\n",
       "      <th></th>\n",
       "      <th>Sales</th>\n",
       "      <th>forecast</th>\n",
       "    </tr>\n",
       "  </thead>\n",
       "  <tbody>\n",
       "    <tr>\n",
       "      <th>2020-11-03</th>\n",
       "      <td>NaN</td>\n",
       "      <td>5.883493e+06</td>\n",
       "    </tr>\n",
       "    <tr>\n",
       "      <th>2020-11-04</th>\n",
       "      <td>NaN</td>\n",
       "      <td>8.695478e+06</td>\n",
       "    </tr>\n",
       "    <tr>\n",
       "      <th>2020-11-05</th>\n",
       "      <td>NaN</td>\n",
       "      <td>1.498223e+07</td>\n",
       "    </tr>\n",
       "    <tr>\n",
       "      <th>2020-11-06</th>\n",
       "      <td>NaN</td>\n",
       "      <td>8.554104e+06</td>\n",
       "    </tr>\n",
       "    <tr>\n",
       "      <th>2020-11-07</th>\n",
       "      <td>NaN</td>\n",
       "      <td>4.349221e+06</td>\n",
       "    </tr>\n",
       "  </tbody>\n",
       "</table>\n",
       "</div>"
      ],
      "text/plain": [
       "           Sales      forecast\n",
       "2020-11-03   NaN  5.883493e+06\n",
       "2020-11-04   NaN  8.695478e+06\n",
       "2020-11-05   NaN  1.498223e+07\n",
       "2020-11-06   NaN  8.554104e+06\n",
       "2020-11-07   NaN  4.349221e+06"
      ]
     },
     "execution_count": 57,
     "metadata": {},
     "output_type": "execute_result"
    }
   ],
   "source": [
    "future_df.tail()"
   ]
  },
  {
   "cell_type": "code",
   "execution_count": 58,
   "metadata": {},
   "outputs": [
    {
     "name": "stdout",
     "output_type": "stream",
     "text": [
      "<class 'pandas.core.frame.DataFrame'>\n",
      "DatetimeIndex: 71 entries, 2020-07-01 to 2020-09-09\n",
      "Freq: D\n",
      "Data columns (total 2 columns):\n",
      " #   Column    Non-Null Count  Dtype  \n",
      "---  ------    --------------  -----  \n",
      " 0   Sales     71 non-null     int64  \n",
      " 1   forecast  16 non-null     float64\n",
      "dtypes: float64(1), int64(1)\n",
      "memory usage: 4.2 KB\n"
     ]
    }
   ],
   "source": [
    "sales_mean.info()"
   ]
  },
  {
   "cell_type": "code",
   "execution_count": 59,
   "metadata": {},
   "outputs": [
    {
     "data": {
      "text/plain": [
       "425232625"
      ]
     },
     "execution_count": 59,
     "metadata": {},
     "output_type": "execute_result"
    }
   ],
   "source": [
    "X.sum()"
   ]
  },
  {
   "cell_type": "code",
   "execution_count": 60,
   "metadata": {},
   "outputs": [
    {
     "data": {
      "text/plain": [
       "550582234.7256951"
      ]
     },
     "execution_count": 60,
     "metadata": {},
     "output_type": "execute_result"
    }
   ],
   "source": [
    "a.sum()"
   ]
  },
  {
   "cell_type": "code",
   "execution_count": null,
   "metadata": {},
   "outputs": [],
   "source": []
  }
 ],
 "metadata": {
  "kernelspec": {
   "display_name": "Python 3",
   "language": "python",
   "name": "python3"
  },
  "language_info": {
   "codemirror_mode": {
    "name": "ipython",
    "version": 3
   },
   "file_extension": ".py",
   "mimetype": "text/x-python",
   "name": "python",
   "nbconvert_exporter": "python",
   "pygments_lexer": "ipython3",
   "version": "3.7.6"
  }
 },
 "nbformat": 4,
 "nbformat_minor": 4
}
